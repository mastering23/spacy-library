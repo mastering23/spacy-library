{
 "cells": [
  {
   "cell_type": "markdown",
   "id": "c4d4fa1c-6369-47be-a25a-46656644a3cf",
   "metadata": {},
   "source": [
    "# Spacy\n",
    "- spaCy is a free, open-source library for advanced Natural Language Processing (NLP) in Python.\n",
    "  "
   ]
  },
  {
   "cell_type": "code",
   "execution_count": 1,
   "id": "00f9c331-f4a7-4c2c-a176-6e1613985a11",
   "metadata": {},
   "outputs": [],
   "source": [
    "import spacy"
   ]
  },
  {
   "cell_type": "code",
   "execution_count": 3,
   "id": "8195bbe2-ad31-4e2d-afdd-f2b85f2588ec",
   "metadata": {},
   "outputs": [],
   "source": [
    "nlp = spacy.load('en_core_web_sm')"
   ]
  },
  {
   "cell_type": "code",
   "execution_count": 6,
   "id": "2ce4bc00-c161-4430-ba0d-25b7c8b750c9",
   "metadata": {},
   "outputs": [],
   "source": [
    "doc = nlp(u'Tesla is looking at buying U.S, startup for $6 million')"
   ]
  },
  {
   "cell_type": "code",
   "execution_count": 19,
   "id": "80628bdb-5817-44f4-89fe-9871ab610b8c",
   "metadata": {},
   "outputs": [
    {
     "name": "stdout",
     "output_type": "stream",
     "text": [
      "Tesla\n",
      "is\n",
      "looking\n",
      "at\n",
      "buying\n",
      "U.S\n",
      ",\n",
      "startup\n",
      "for\n",
      "$\n",
      "6\n",
      "million\n"
     ]
    }
   ],
   "source": [
    "for token in doc:\n",
    "    print(token.text)"
   ]
  },
  {
   "cell_type": "code",
   "execution_count": 21,
   "id": "34516eab-6870-4f02-8b56-2cad8e1a7581",
   "metadata": {},
   "outputs": [
    {
     "name": "stdout",
     "output_type": "stream",
     "text": [
      "Tesla PROPN nsubj\n",
      "is AUX aux\n",
      "looking VERB ROOT\n",
      "at ADP prep\n",
      "buying VERB pcomp\n",
      "U.S PROPN dobj\n",
      ", PUNCT punct\n",
      "startup VERB conj\n",
      "for ADP prep\n",
      "$ SYM quantmod\n",
      "6 NUM compound\n",
      "million NUM pobj\n"
     ]
    }
   ],
   "source": [
    "for token in doc:\n",
    "    print(token.text,token.pos_, token.dep_)"
   ]
  },
  {
   "cell_type": "code",
   "execution_count": 23,
   "id": "27a199b5-1e44-40ab-be9c-826bcf6e3e90",
   "metadata": {},
   "outputs": [
    {
     "data": {
      "text/plain": [
       "[('tok2vec', <spacy.pipeline.tok2vec.Tok2Vec at 0x236a6840e90>),\n",
       " ('tagger', <spacy.pipeline.tagger.Tagger at 0x236a68410d0>),\n",
       " ('parser', <spacy.pipeline.dep_parser.DependencyParser at 0x236a67b7060>),\n",
       " ('attribute_ruler',\n",
       "  <spacy.pipeline.attributeruler.AttributeRuler at 0x236a6ada250>),\n",
       " ('lemmatizer', <spacy.lang.en.lemmatizer.EnglishLemmatizer at 0x236a6ae53d0>),\n",
       " ('ner', <spacy.pipeline.ner.EntityRecognizer at 0x236a67b7220>)]"
      ]
     },
     "execution_count": 23,
     "metadata": {},
     "output_type": "execute_result"
    }
   ],
   "source": [
    "nlp.pipeline"
   ]
  },
  {
   "cell_type": "code",
   "execution_count": 25,
   "id": "3877ec93-80b6-470f-ae2c-9ae96098f99b",
   "metadata": {},
   "outputs": [
    {
     "data": {
      "text/plain": [
       "['tok2vec', 'tagger', 'parser', 'attribute_ruler', 'lemmatizer', 'ner']"
      ]
     },
     "execution_count": 25,
     "metadata": {},
     "output_type": "execute_result"
    }
   ],
   "source": [
    "nlp.pipe_names"
   ]
  },
  {
   "cell_type": "code",
   "execution_count": 35,
   "id": "0ab5c778-2ed3-4276-a0a8-4ef3e52a180a",
   "metadata": {},
   "outputs": [],
   "source": [
    "doc2 = nlp(u\"Tesla isn't       looking into     startups anymore.\")"
   ]
  },
  {
   "cell_type": "code",
   "execution_count": 37,
   "id": "ceefcc5b-5047-4d58-9ec1-9cbb6d3cd4c6",
   "metadata": {},
   "outputs": [
    {
     "name": "stdout",
     "output_type": "stream",
     "text": [
      "Tesla PROPN 429\n",
      "is AUX 405\n",
      "n't PART 425\n",
      "       SPACE 414\n",
      "looking VERB 8206900633647566924\n",
      "into ADP 443\n",
      "     SPACE 414\n",
      "startups NOUN 439\n",
      "anymore ADV 400\n",
      ". PUNCT 445\n"
     ]
    }
   ],
   "source": [
    "for token in doc2:\n",
    "    print(token.text,token.pos_,token.dep)"
   ]
  },
  {
   "cell_type": "code",
   "execution_count": 49,
   "id": "3473a3b5-97a1-4f7b-8aca-0c64046a92af",
   "metadata": {},
   "outputs": [
    {
     "data": {
      "text/plain": [
       "Tesla"
      ]
     },
     "execution_count": 49,
     "metadata": {},
     "output_type": "execute_result"
    }
   ],
   "source": [
    "doc2[0]"
   ]
  },
  {
   "cell_type": "code",
   "execution_count": 51,
   "id": "870e83ba-817b-4321-8a49-e64b95037938",
   "metadata": {},
   "outputs": [
    {
     "data": {
      "text/plain": [
       "'PROPN'"
      ]
     },
     "execution_count": 51,
     "metadata": {},
     "output_type": "execute_result"
    }
   ],
   "source": [
    "doc2[0].pos_"
   ]
  },
  {
   "cell_type": "code",
   "execution_count": 63,
   "id": "6366ddc9-cfed-4905-aaea-1753c74aa501",
   "metadata": {},
   "outputs": [],
   "source": [
    "doc3 = (u\"\"\" Since its release in 2015, spaCy has become an industry standard with a huge ecosystem. \n",
    "Choose from a variety of plugins, integrate with your machine learning stack and build custom components and workflows.\"\"\")"
   ]
  },
  {
   "cell_type": "code",
   "execution_count": 107,
   "id": "33d8aec8-7ea6-45c6-8679-72e25c859a11",
   "metadata": {},
   "outputs": [],
   "source": [
    "take_some_words = doc3[0:89]"
   ]
  },
  {
   "cell_type": "code",
   "execution_count": 109,
   "id": "1059797d-c1b0-4f51-92e3-22aa0ba9565c",
   "metadata": {},
   "outputs": [
    {
     "name": "stdout",
     "output_type": "stream",
     "text": [
      "Since its release in 2015, spaCy has become an industry standard with a huge ecosystem. \n",
      "\n"
     ]
    }
   ],
   "source": [
    "print(take_some_words)"
   ]
  },
  {
   "cell_type": "markdown",
   "id": "75c9bd69-abb2-4bb7-b792-3b742051c787",
   "metadata": {},
   "source": [
    "# Tokenization"
   ]
  },
  {
   "cell_type": "code",
   "execution_count": 172,
   "id": "d7ecd86d-9644-4384-b8b0-82ab00391525",
   "metadata": {},
   "outputs": [],
   "source": [
    "mystring = '\"We\\'re moving to L.A.!\"'"
   ]
  },
  {
   "cell_type": "code",
   "execution_count": 174,
   "id": "c1f40486-a977-427d-a789-c4e9badcd7fa",
   "metadata": {},
   "outputs": [
    {
     "name": "stdout",
     "output_type": "stream",
     "text": [
      "\"We're moving to L.A.!\"\n"
     ]
    }
   ],
   "source": [
    "print(mystring)"
   ]
  },
  {
   "cell_type": "code",
   "execution_count": 176,
   "id": "e518f0d5-233e-4f10-81d9-a5420319ae33",
   "metadata": {},
   "outputs": [],
   "source": [
    "doc = nlp(mystring)"
   ]
  },
  {
   "cell_type": "code",
   "execution_count": 178,
   "id": "9ab5fce4-5bf4-4455-abc8-587aefcbd75f",
   "metadata": {},
   "outputs": [
    {
     "name": "stdout",
     "output_type": "stream",
     "text": [
      "\"\n",
      "We\n",
      "'re\n",
      "moving\n",
      "to\n",
      "L.A.\n",
      "!\n",
      "\"\n"
     ]
    }
   ],
   "source": [
    "for token in doc:\n",
    "    print(token.text)"
   ]
  },
  {
   "cell_type": "code",
   "execution_count": 182,
   "id": "118ed228-a540-4976-8dd8-fdd3310e5f0b",
   "metadata": {},
   "outputs": [],
   "source": [
    "doc4 = nlp(u\"we/'re here to help! Send snail-mail , email support2oursite.com, or visit us at http://www.oursite.com!\")"
   ]
  },
  {
   "cell_type": "code",
   "execution_count": 188,
   "id": "e5448d61-08ca-43b6-9f45-8854314c52c3",
   "metadata": {},
   "outputs": [
    {
     "name": "stdout",
     "output_type": "stream",
     "text": [
      "we/'re\n",
      "here\n",
      "to\n",
      "help\n",
      "!\n",
      "Send\n",
      "snail\n",
      "-\n",
      "mail\n",
      ",\n",
      "email\n",
      "support2oursite.com\n",
      ",\n",
      "or\n",
      "visit\n",
      "us\n",
      "at\n",
      "http://www.oursite.com\n",
      "!\n"
     ]
    }
   ],
   "source": [
    "for t in doc4:\n",
    "    print(t)"
   ]
  },
  {
   "cell_type": "code",
   "execution_count": 190,
   "id": "4d2a43cb-e221-4fbc-8358-06fd45bff6c9",
   "metadata": {},
   "outputs": [],
   "source": [
    "doc5 = nlp(u\"A 5km NYC cab ride cost $12.50\")"
   ]
  },
  {
   "cell_type": "code",
   "execution_count": 192,
   "id": "f475d2e4-912c-46b9-a28c-3c005fb642b6",
   "metadata": {},
   "outputs": [
    {
     "name": "stdout",
     "output_type": "stream",
     "text": [
      "A\n",
      "5\n",
      "km\n",
      "NYC\n",
      "cab\n",
      "ride\n",
      "cost\n",
      "$\n",
      "12.50\n"
     ]
    }
   ],
   "source": [
    "for t in doc5:\n",
    "    print(t)"
   ]
  },
  {
   "cell_type": "code",
   "execution_count": 196,
   "id": "53a7e1d3-c2d2-4200-966c-eef78c67b005",
   "metadata": {},
   "outputs": [],
   "source": [
    "doc6 =nlp(u\"Apple top build a El Salvador factory for $6 million\")"
   ]
  },
  {
   "cell_type": "code",
   "execution_count": 198,
   "id": "6b4ce31c-fbab-4230-8b0d-cbbaebf311dc",
   "metadata": {},
   "outputs": [
    {
     "name": "stdout",
     "output_type": "stream",
     "text": [
      "Apple | top | build | a | El | Salvador | factory | for | $ | 6 | million | "
     ]
    }
   ],
   "source": [
    "for t in doc6:\n",
    "    print(t.text, end=' | ')"
   ]
  },
  {
   "cell_type": "markdown",
   "id": "80f7ecdd-4d1d-442c-90ad-680861a988da",
   "metadata": {},
   "source": [
    "### Print only the entidies : \n",
    "    - An \"entity\" refers to a significant piece of information or object identified and categorized within a text"
   ]
  },
  {
   "cell_type": "code",
   "execution_count": 210,
   "id": "d4199002-1232-4ca1-9e4d-9ffdb3a8396c",
   "metadata": {},
   "outputs": [
    {
     "name": "stdout",
     "output_type": "stream",
     "text": [
      "Apple\n",
      "El Salvador\n",
      "$6 million\n"
     ]
    }
   ],
   "source": [
    "for entity in doc6.ents:\n",
    "    print(entity)"
   ]
  },
  {
   "cell_type": "code",
   "execution_count": 221,
   "id": "c05dbcd2-c0ed-4c0b-80ec-cc7ba3bfef4b",
   "metadata": {},
   "outputs": [
    {
     "name": "stdout",
     "output_type": "stream",
     "text": [
      "Apple\n",
      "ORG\n",
      "Companies, agencies, institutions, etc.\n",
      "\n",
      "\n",
      "El Salvador\n",
      "GPE\n",
      "Countries, cities, states\n",
      "\n",
      "\n",
      "$6 million\n",
      "MONEY\n",
      "Monetary values, including unit\n",
      "\n",
      "\n"
     ]
    }
   ],
   "source": [
    "for entity in doc6.ents:\n",
    "    print(entity)\n",
    "    print(entity.label_)\n",
    "    print(str(spacy.explain(entity.label_)))\n",
    "    print('\\n')"
   ]
  },
  {
   "cell_type": "markdown",
   "id": "cc0ce99a-e006-40d6-8e69-6b8765b15731",
   "metadata": {},
   "source": [
    "## DisplaCy Dependency Visualizer\n",
    "### Intro displacy from spacy\n",
    "- spaCy also comes with a built-in dependency visualizer that lets you check your model's predictions in your browser.\n",
    "- You can pass in one or more Doc objects and start a web server, export HTML files or view the visualization directly from a Jupyter Notebook. "
   ]
  },
  {
   "cell_type": "code",
   "execution_count": 258,
   "id": "3eabf4e4-f213-458c-9052-c7e72fc5428b",
   "metadata": {},
   "outputs": [],
   "source": [
    "from spacy import displacy"
   ]
  },
  {
   "cell_type": "code",
   "execution_count": 283,
   "id": "cf3db1ae-f7ed-454e-909c-c6c664ad9dd0",
   "metadata": {},
   "outputs": [],
   "source": [
    "doc7 = nlp(u\"Google gain 5 million\")"
   ]
  },
  {
   "cell_type": "code",
   "execution_count": 285,
   "id": "0493e72b-9154-4e4f-beb3-0c3f07590e3d",
   "metadata": {},
   "outputs": [
    {
     "data": {
      "text/html": [
       "<span class=\"tex2jax_ignore\"><svg xmlns=\"http://www.w3.org/2000/svg\" xmlns:xlink=\"http://www.w3.org/1999/xlink\" xml:lang=\"en\" id=\"b34ca04cc5c244ecb75db974cc7ae136-0\" class=\"displacy\" width=\"490\" height=\"247.0\" direction=\"ltr\" style=\"max-width: none; height: 247.0px; color: #000000; background: #ffffff; font-family: Arial; direction: ltr\">\n",
       "<text class=\"displacy-token\" fill=\"currentColor\" text-anchor=\"middle\" y=\"157.0\">\n",
       "    <tspan class=\"displacy-word\" fill=\"currentColor\" x=\"50\">Google</tspan>\n",
       "    <tspan class=\"displacy-tag\" dy=\"2em\" fill=\"currentColor\" x=\"50\">PROPN</tspan>\n",
       "</text>\n",
       "\n",
       "<text class=\"displacy-token\" fill=\"currentColor\" text-anchor=\"middle\" y=\"157.0\">\n",
       "    <tspan class=\"displacy-word\" fill=\"currentColor\" x=\"160\">gain</tspan>\n",
       "    <tspan class=\"displacy-tag\" dy=\"2em\" fill=\"currentColor\" x=\"160\">VERB</tspan>\n",
       "</text>\n",
       "\n",
       "<text class=\"displacy-token\" fill=\"currentColor\" text-anchor=\"middle\" y=\"157.0\">\n",
       "    <tspan class=\"displacy-word\" fill=\"currentColor\" x=\"270\">5</tspan>\n",
       "    <tspan class=\"displacy-tag\" dy=\"2em\" fill=\"currentColor\" x=\"270\">NUM</tspan>\n",
       "</text>\n",
       "\n",
       "<text class=\"displacy-token\" fill=\"currentColor\" text-anchor=\"middle\" y=\"157.0\">\n",
       "    <tspan class=\"displacy-word\" fill=\"currentColor\" x=\"380\">million</tspan>\n",
       "    <tspan class=\"displacy-tag\" dy=\"2em\" fill=\"currentColor\" x=\"380\">NUM</tspan>\n",
       "</text>\n",
       "\n",
       "<g class=\"displacy-arrow\">\n",
       "    <path class=\"displacy-arc\" id=\"arrow-b34ca04cc5c244ecb75db974cc7ae136-0-0\" stroke-width=\"2px\" d=\"M70,112.0 C70,57.0 155.0,57.0 155.0,112.0\" fill=\"none\" stroke=\"currentColor\"/>\n",
       "    <text dy=\"1.25em\" style=\"font-size: 0.8em; letter-spacing: 1px\">\n",
       "        <textPath xlink:href=\"#arrow-b34ca04cc5c244ecb75db974cc7ae136-0-0\" class=\"displacy-label\" startOffset=\"50%\" side=\"left\" fill=\"currentColor\" text-anchor=\"middle\">nsubj</textPath>\n",
       "    </text>\n",
       "    <path class=\"displacy-arrowhead\" d=\"M70,114.0 L62,102.0 78,102.0\" fill=\"currentColor\"/>\n",
       "</g>\n",
       "\n",
       "<g class=\"displacy-arrow\">\n",
       "    <path class=\"displacy-arc\" id=\"arrow-b34ca04cc5c244ecb75db974cc7ae136-0-1\" stroke-width=\"2px\" d=\"M290,112.0 C290,57.0 375.0,57.0 375.0,112.0\" fill=\"none\" stroke=\"currentColor\"/>\n",
       "    <text dy=\"1.25em\" style=\"font-size: 0.8em; letter-spacing: 1px\">\n",
       "        <textPath xlink:href=\"#arrow-b34ca04cc5c244ecb75db974cc7ae136-0-1\" class=\"displacy-label\" startOffset=\"50%\" side=\"left\" fill=\"currentColor\" text-anchor=\"middle\">compound</textPath>\n",
       "    </text>\n",
       "    <path class=\"displacy-arrowhead\" d=\"M290,114.0 L282,102.0 298,102.0\" fill=\"currentColor\"/>\n",
       "</g>\n",
       "\n",
       "<g class=\"displacy-arrow\">\n",
       "    <path class=\"displacy-arc\" id=\"arrow-b34ca04cc5c244ecb75db974cc7ae136-0-2\" stroke-width=\"2px\" d=\"M180,112.0 C180,2.0 380.0,2.0 380.0,112.0\" fill=\"none\" stroke=\"currentColor\"/>\n",
       "    <text dy=\"1.25em\" style=\"font-size: 0.8em; letter-spacing: 1px\">\n",
       "        <textPath xlink:href=\"#arrow-b34ca04cc5c244ecb75db974cc7ae136-0-2\" class=\"displacy-label\" startOffset=\"50%\" side=\"left\" fill=\"currentColor\" text-anchor=\"middle\">dobj</textPath>\n",
       "    </text>\n",
       "    <path class=\"displacy-arrowhead\" d=\"M380.0,114.0 L388.0,102.0 372.0,102.0\" fill=\"currentColor\"/>\n",
       "</g>\n",
       "</svg></span>"
      ],
      "text/plain": [
       "<IPython.core.display.HTML object>"
      ]
     },
     "metadata": {},
     "output_type": "display_data"
    }
   ],
   "source": [
    "displacy.render(doc7, style='dep', jupyter=True, options={'distance': 110} )\n"
   ]
  },
  {
   "cell_type": "code",
   "execution_count": null,
   "id": "1c4d3e00-920c-4a56-bde2-3c7fecd07cd9",
   "metadata": {},
   "outputs": [],
   "source": []
  },
  {
   "cell_type": "code",
   "execution_count": null,
   "id": "e81bcf9f-3a63-4bc2-b8e6-6e14d2af1488",
   "metadata": {},
   "outputs": [],
   "source": []
  }
 ],
 "metadata": {
  "kernelspec": {
   "display_name": "Python [conda env:base] *",
   "language": "python",
   "name": "conda-base-py"
  },
  "language_info": {
   "codemirror_mode": {
    "name": "ipython",
    "version": 3
   },
   "file_extension": ".py",
   "mimetype": "text/x-python",
   "name": "python",
   "nbconvert_exporter": "python",
   "pygments_lexer": "ipython3",
   "version": "3.12.3"
  }
 },
 "nbformat": 4,
 "nbformat_minor": 5
}
