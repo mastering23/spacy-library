{
 "cells": [
  {
   "cell_type": "markdown",
   "id": "c4d4fa1c-6369-47be-a25a-46656644a3cf",
   "metadata": {},
   "source": [
    "# Spacy\n",
    "- spaCy is a free, open-source library for advanced Natural Language Processing (NLP) in Python.\n",
    "  "
   ]
  },
  {
   "cell_type": "code",
   "execution_count": 1,
   "id": "00f9c331-f4a7-4c2c-a176-6e1613985a11",
   "metadata": {},
   "outputs": [],
   "source": [
    "import spacy"
   ]
  },
  {
   "cell_type": "code",
   "execution_count": 3,
   "id": "8195bbe2-ad31-4e2d-afdd-f2b85f2588ec",
   "metadata": {},
   "outputs": [],
   "source": [
    "nlp = spacy.load('en_core_web_sm')"
   ]
  },
  {
   "cell_type": "code",
   "execution_count": 6,
   "id": "2ce4bc00-c161-4430-ba0d-25b7c8b750c9",
   "metadata": {},
   "outputs": [],
   "source": [
    "doc = nlp(u'Tesla is looking at buying U.S, startup for $6 million')"
   ]
  },
  {
   "cell_type": "code",
   "execution_count": 13,
   "id": "80628bdb-5817-44f4-89fe-9871ab610b8c",
   "metadata": {},
   "outputs": [
    {
     "name": "stdout",
     "output_type": "stream",
     "text": [
      "Tesla\n",
      "is\n",
      "looking\n",
      "at\n",
      "buying\n",
      "U.S\n",
      ",\n",
      "startup\n",
      "for\n",
      "$\n",
      "6\n",
      "million\n"
     ]
    }
   ],
   "source": [
    "for token in doc:\n",
    "    print(token.text)"
   ]
  },
  {
   "cell_type": "code",
   "execution_count": null,
   "id": "5f55f90c-b805-4c9b-9a87-fa042d68ed7a",
   "metadata": {},
   "outputs": [],
   "source": []
  },
  {
   "cell_type": "code",
   "execution_count": null,
   "id": "34516eab-6870-4f02-8b56-2cad8e1a7581",
   "metadata": {},
   "outputs": [],
   "source": []
  }
 ],
 "metadata": {
  "kernelspec": {
   "display_name": "Python [conda env:base] *",
   "language": "python",
   "name": "conda-base-py"
  },
  "language_info": {
   "codemirror_mode": {
    "name": "ipython",
    "version": 3
   },
   "file_extension": ".py",
   "mimetype": "text/x-python",
   "name": "python",
   "nbconvert_exporter": "python",
   "pygments_lexer": "ipython3",
   "version": "3.12.3"
  }
 },
 "nbformat": 4,
 "nbformat_minor": 5
}
