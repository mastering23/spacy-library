{
 "cells": [
  {
   "cell_type": "markdown",
   "id": "c4d4fa1c-6369-47be-a25a-46656644a3cf",
   "metadata": {},
   "source": [
    "# Spacy\n",
    "- spaCy is a free, open-source library for advanced Natural Language Processing (NLP) in Python.\n",
    "  "
   ]
  },
  {
   "cell_type": "code",
   "execution_count": 1,
   "id": "00f9c331-f4a7-4c2c-a176-6e1613985a11",
   "metadata": {},
   "outputs": [],
   "source": [
    "import spacy"
   ]
  },
  {
   "cell_type": "code",
   "execution_count": 3,
   "id": "8195bbe2-ad31-4e2d-afdd-f2b85f2588ec",
   "metadata": {},
   "outputs": [],
   "source": [
    "nlp = spacy.load('en_core_web_sm')"
   ]
  },
  {
   "cell_type": "code",
   "execution_count": 6,
   "id": "2ce4bc00-c161-4430-ba0d-25b7c8b750c9",
   "metadata": {},
   "outputs": [],
   "source": [
    "doc = nlp(u'Tesla is looking at buying U.S, startup for $6 million')"
   ]
  },
  {
   "cell_type": "code",
   "execution_count": 19,
   "id": "80628bdb-5817-44f4-89fe-9871ab610b8c",
   "metadata": {},
   "outputs": [
    {
     "name": "stdout",
     "output_type": "stream",
     "text": [
      "Tesla\n",
      "is\n",
      "looking\n",
      "at\n",
      "buying\n",
      "U.S\n",
      ",\n",
      "startup\n",
      "for\n",
      "$\n",
      "6\n",
      "million\n"
     ]
    }
   ],
   "source": [
    "for token in doc:\n",
    "    print(token.text)"
   ]
  },
  {
   "cell_type": "code",
   "execution_count": 21,
   "id": "34516eab-6870-4f02-8b56-2cad8e1a7581",
   "metadata": {},
   "outputs": [
    {
     "name": "stdout",
     "output_type": "stream",
     "text": [
      "Tesla PROPN nsubj\n",
      "is AUX aux\n",
      "looking VERB ROOT\n",
      "at ADP prep\n",
      "buying VERB pcomp\n",
      "U.S PROPN dobj\n",
      ", PUNCT punct\n",
      "startup VERB conj\n",
      "for ADP prep\n",
      "$ SYM quantmod\n",
      "6 NUM compound\n",
      "million NUM pobj\n"
     ]
    }
   ],
   "source": [
    "for token in doc:\n",
    "    print(token.text,token.pos_, token.dep_)"
   ]
  },
  {
   "cell_type": "code",
   "execution_count": 23,
   "id": "27a199b5-1e44-40ab-be9c-826bcf6e3e90",
   "metadata": {},
   "outputs": [
    {
     "data": {
      "text/plain": [
       "[('tok2vec', <spacy.pipeline.tok2vec.Tok2Vec at 0x236a6840e90>),\n",
       " ('tagger', <spacy.pipeline.tagger.Tagger at 0x236a68410d0>),\n",
       " ('parser', <spacy.pipeline.dep_parser.DependencyParser at 0x236a67b7060>),\n",
       " ('attribute_ruler',\n",
       "  <spacy.pipeline.attributeruler.AttributeRuler at 0x236a6ada250>),\n",
       " ('lemmatizer', <spacy.lang.en.lemmatizer.EnglishLemmatizer at 0x236a6ae53d0>),\n",
       " ('ner', <spacy.pipeline.ner.EntityRecognizer at 0x236a67b7220>)]"
      ]
     },
     "execution_count": 23,
     "metadata": {},
     "output_type": "execute_result"
    }
   ],
   "source": [
    "nlp.pipeline"
   ]
  },
  {
   "cell_type": "code",
   "execution_count": 25,
   "id": "3877ec93-80b6-470f-ae2c-9ae96098f99b",
   "metadata": {},
   "outputs": [
    {
     "data": {
      "text/plain": [
       "['tok2vec', 'tagger', 'parser', 'attribute_ruler', 'lemmatizer', 'ner']"
      ]
     },
     "execution_count": 25,
     "metadata": {},
     "output_type": "execute_result"
    }
   ],
   "source": [
    "nlp.pipe_names"
   ]
  },
  {
   "cell_type": "code",
   "execution_count": 35,
   "id": "0ab5c778-2ed3-4276-a0a8-4ef3e52a180a",
   "metadata": {},
   "outputs": [],
   "source": [
    "doc2 = nlp(u\"Tesla isn't       looking into     startups anymore.\")"
   ]
  },
  {
   "cell_type": "code",
   "execution_count": 37,
   "id": "ceefcc5b-5047-4d58-9ec1-9cbb6d3cd4c6",
   "metadata": {},
   "outputs": [
    {
     "name": "stdout",
     "output_type": "stream",
     "text": [
      "Tesla PROPN 429\n",
      "is AUX 405\n",
      "n't PART 425\n",
      "       SPACE 414\n",
      "looking VERB 8206900633647566924\n",
      "into ADP 443\n",
      "     SPACE 414\n",
      "startups NOUN 439\n",
      "anymore ADV 400\n",
      ". PUNCT 445\n"
     ]
    }
   ],
   "source": [
    "for token in doc2:\n",
    "    print(token.text,token.pos_,token.dep)"
   ]
  },
  {
   "cell_type": "code",
   "execution_count": 49,
   "id": "3473a3b5-97a1-4f7b-8aca-0c64046a92af",
   "metadata": {},
   "outputs": [
    {
     "data": {
      "text/plain": [
       "Tesla"
      ]
     },
     "execution_count": 49,
     "metadata": {},
     "output_type": "execute_result"
    }
   ],
   "source": [
    "doc2[0]"
   ]
  },
  {
   "cell_type": "code",
   "execution_count": 51,
   "id": "870e83ba-817b-4321-8a49-e64b95037938",
   "metadata": {},
   "outputs": [
    {
     "data": {
      "text/plain": [
       "'PROPN'"
      ]
     },
     "execution_count": 51,
     "metadata": {},
     "output_type": "execute_result"
    }
   ],
   "source": [
    "doc2[0].pos_"
   ]
  },
  {
   "cell_type": "code",
   "execution_count": 63,
   "id": "6366ddc9-cfed-4905-aaea-1753c74aa501",
   "metadata": {},
   "outputs": [],
   "source": [
    "doc3 = (u\"\"\" Since its release in 2015, spaCy has become an industry standard with a huge ecosystem. \n",
    "Choose from a variety of plugins, integrate with your machine learning stack and build custom components and workflows.\"\"\")"
   ]
  },
  {
   "cell_type": "code",
   "execution_count": 107,
   "id": "33d8aec8-7ea6-45c6-8679-72e25c859a11",
   "metadata": {},
   "outputs": [],
   "source": [
    "take_some_words = doc3[0:89]"
   ]
  },
  {
   "cell_type": "code",
   "execution_count": 109,
   "id": "1059797d-c1b0-4f51-92e3-22aa0ba9565c",
   "metadata": {},
   "outputs": [
    {
     "name": "stdout",
     "output_type": "stream",
     "text": [
      "Since its release in 2015, spaCy has become an industry standard with a huge ecosystem. \n",
      "\n"
     ]
    }
   ],
   "source": [
    "print(take_some_words)"
   ]
  },
  {
   "cell_type": "code",
   "execution_count": null,
   "id": "d049f3ff-6d5b-4b96-8bb3-50b3e06a2209",
   "metadata": {},
   "outputs": [],
   "source": []
  }
 ],
 "metadata": {
  "kernelspec": {
   "display_name": "Python [conda env:base] *",
   "language": "python",
   "name": "conda-base-py"
  },
  "language_info": {
   "codemirror_mode": {
    "name": "ipython",
    "version": 3
   },
   "file_extension": ".py",
   "mimetype": "text/x-python",
   "name": "python",
   "nbconvert_exporter": "python",
   "pygments_lexer": "ipython3",
   "version": "3.12.3"
  }
 },
 "nbformat": 4,
 "nbformat_minor": 5
}
